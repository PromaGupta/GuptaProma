{
 "cells": [
  {
   "cell_type": "code",
   "execution_count": 1,
   "id": "1d28fe8e",
   "metadata": {},
   "outputs": [],
   "source": [
    "def total(list_obj):\n",
    "    total = 0\n",
    "    n = len(list_obj)\n",
    "    for i in range(n):\n",
    "        total += list_obj[i]\n",
    "    return total"
   ]
  },
  {
   "cell_type": "code",
   "execution_count": 2,
   "id": "a62bbaba",
   "metadata": {},
   "outputs": [
    {
     "data": {
      "text/plain": [
       "43"
      ]
     },
     "execution_count": 2,
     "metadata": {},
     "output_type": "execute_result"
    }
   ],
   "source": [
    "lst = [4, 5, 6, 7, 8, 9, 4]\n",
    "total(lst)"
   ]
  },
  {
   "cell_type": "code",
   "execution_count": 3,
   "id": "825087ba",
   "metadata": {},
   "outputs": [],
   "source": [
    "def total(list_obj):\n",
    "    total = 0\n",
    "    n = len(list_obj)\n",
    "    for i in range(n):\n",
    "        total += list_obj[i]\n",
    "        print (i, total) \n",
    "    return total"
   ]
  },
  {
   "cell_type": "code",
   "execution_count": 4,
   "id": "aad31b70",
   "metadata": {},
   "outputs": [
    {
     "name": "stdout",
     "output_type": "stream",
     "text": [
      "0 4\n",
      "1 9\n",
      "2 15\n",
      "3 22\n",
      "4 30\n",
      "5 39\n",
      "6 43\n"
     ]
    },
    {
     "data": {
      "text/plain": [
       "43"
      ]
     },
     "execution_count": 4,
     "metadata": {},
     "output_type": "execute_result"
    }
   ],
   "source": [
    "lst = [4, 5, 6, 7, 8, 9, 4]\n",
    "total(lst)"
   ]
  },
  {
   "cell_type": "code",
   "execution_count": 5,
   "id": "a6a8172d",
   "metadata": {},
   "outputs": [],
   "source": [
    "def total(list_obj):\n",
    "    total = 0\n",
    "    for val in list_obj:\n",
    "        total += val\n",
    "    return total\n",
    "\n",
    "def mean(list_obj):\n",
    "    n = len(list_obj)\n",
    "    mean_ = total(list_obj) / n\n",
    "    return mean_\n",
    "\n",
    "def median(list_obj):\n",
    "    n = len(list_obj)\n",
    "    # sort the values and take the middle value if the \n",
    "    #    list is of odd length\n",
    "    # or the mean of the two middle values if the list \n",
    "    #    of even length \n",
    "    list_obj = sorted(list_obj)\n",
    "    if n % 2 != 0:\n",
    "        # list length is odd\n",
    "        middle_index = int((n - 1) / 2)\n",
    "        median_ = list_obj[middle_index]\n",
    "    else:\n",
    "        upper_middle_index = int(n / 2)\n",
    "        lower_middle_index = upper_middle_index - 1\n",
    "        # pass slice with two middle values to mean()\n",
    "        median_ = mean(\n",
    "            list_object[lower_middle_index:upper_middle_index])\n",
    "    return median_\n",
    "\n",
    "def mode(list_obj):\n",
    "    max_count = 0\n",
    "    counter_dict = {}\n",
    "    for value in list_obj:\n",
    "        counter_dict[value] = 0\n",
    "    for value in list_obj:\n",
    "        counter_dict[value] += 1\n",
    "    count_list = list(counter_dict.values())\n",
    "    max_count = max(count_list)\n",
    "    mode_ = [key for key in counter_dict if counter_dict[key] == max_count]\n",
    "    \n",
    "    return mode_"
   ]
  },
  {
   "cell_type": "code",
   "execution_count": 6,
   "id": "13f35e47",
   "metadata": {},
   "outputs": [
    {
     "name": "stdout",
     "output_type": "stream",
     "text": [
      "total: 43\n",
      "mean: 6.142857142857143\n",
      "median: 6\n",
      "mode: [4]\n"
     ]
    }
   ],
   "source": [
    "lst = [4,5,6,7,8,9,4]\n",
    "\n",
    "print(\"total:\", total(lst))\n",
    "print(\"mean:\", mean(lst))\n",
    "print(\"median:\", median(lst))\n",
    "print(\"mode:\", mode(lst))"
   ]
  },
  {
   "cell_type": "code",
   "execution_count": 7,
   "id": "25c873b8",
   "metadata": {},
   "outputs": [],
   "source": [
    "def variance(list_obj, sample = False):\n",
    "    # popvar(list) = sum((xi - list_mean)**2) / n for all xi in list\n",
    "    # save mean value of list\n",
    "    list_mean = mean(list_obj)\n",
    "    # use n to calculate average of sum squared diffs\n",
    "    n = len(list_obj)\n",
    "    # create value we can add squared diffs to\n",
    "    sum_sq_diff = 0\n",
    "    for val in list_obj:\n",
    "        # adds each squared diff to sum_sq_diff\n",
    "        sum_sq_diff += (val - list_mean) ** 2\n",
    "    if sample == False:\n",
    "        # normalize result by dividing by n\n",
    "        variance_ = sum_sq_diff / n\n",
    "    else:\n",
    "        # for samples, normalize by dividing by (n-1)\n",
    "        variance_ = sum_sq_diff / (n - 1)\n",
    "    return variance_"
   ]
  },
  {
   "cell_type": "code",
   "execution_count": 8,
   "id": "6cc2ad6d",
   "metadata": {},
   "outputs": [
    {
     "name": "stdout",
     "output_type": "stream",
     "text": [
      "total: 43\n",
      "mean: 6.142857142857143\n",
      "median: 6\n",
      "mode: [4]\n",
      "variance: 3.265306122448979\n"
     ]
    }
   ],
   "source": [
    "lst = [4, 5, 6, 7, 8, 9, 4]\n",
    "print(\"total:\",total(lst))\n",
    "print(\"mean:\",mean(lst))\n",
    "print(\"median:\",median(lst))\n",
    "print(\"mode:\",mode(lst))\n",
    "print(\"variance:\", variance(lst))"
   ]
  },
  {
   "cell_type": "code",
   "execution_count": 9,
   "id": "4bffcfa3",
   "metadata": {},
   "outputs": [],
   "source": [
    "def SD(list_obj, sample = False):\n",
    "    # Standard deviation is the square root of variance\n",
    "    SD_ = variance(list_obj, sample) ** (1/2)\n",
    "    return SD_"
   ]
  },
  {
   "cell_type": "code",
   "execution_count": 10,
   "id": "e310b23a",
   "metadata": {},
   "outputs": [
    {
     "name": "stdout",
     "output_type": "stream",
     "text": [
      "total: 43\n",
      "mean: 6.142857142857143\n",
      "median: 6\n",
      "mode: [4]\n",
      "variance: 3.265306122448979\n",
      "SD: 1.8070158058105024\n"
     ]
    }
   ],
   "source": [
    "lst = [4, 5, 6, 7, 8, 9, 4]\n",
    "print(\"total:\",total(lst))\n",
    "print(\"mean:\",mean(lst))\n",
    "print(\"median:\",median(lst))\n",
    "print(\"mode:\",mode(lst))\n",
    "print(\"variance:\", variance(lst))\n",
    "print(\"SD:\",SD(lst))"
   ]
  },
  {
   "cell_type": "code",
   "execution_count": null,
   "id": "4463f775",
   "metadata": {},
   "outputs": [],
   "source": []
  }
 ],
 "metadata": {
  "kernelspec": {
   "display_name": "Python 3",
   "language": "python",
   "name": "python3"
  },
  "language_info": {
   "codemirror_mode": {
    "name": "ipython",
    "version": 3
   },
   "file_extension": ".py",
   "mimetype": "text/x-python",
   "name": "python",
   "nbconvert_exporter": "python",
   "pygments_lexer": "ipython3",
   "version": "3.8.8"
  }
 },
 "nbformat": 4,
 "nbformat_minor": 5
}
