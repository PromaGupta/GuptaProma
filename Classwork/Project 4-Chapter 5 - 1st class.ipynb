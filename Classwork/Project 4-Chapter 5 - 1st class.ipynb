{
 "cells": [
  {
   "cell_type": "markdown",
   "id": "c8cc8698",
   "metadata": {},
   "source": [
    "#  Introduction to numpy, pandas, and matplotlib"
   ]
  },
  {
   "cell_type": "code",
   "execution_count": 1,
   "id": "0432899a",
   "metadata": {},
   "outputs": [
    {
     "data": {
      "text/plain": [
       "array([1, 2, 3, 4, 5])"
      ]
     },
     "execution_count": 1,
     "metadata": {},
     "output_type": "execute_result"
    }
   ],
   "source": [
    "import numpy as np\n",
    "\n",
    "array = np.array([1, 2, 3, 4, 5])\n",
    "array"
   ]
  },
  {
   "cell_type": "code",
   "execution_count": 2,
   "id": "1d474d26",
   "metadata": {},
   "outputs": [
    {
     "data": {
      "text/plain": [
       "numpy.ndarray"
      ]
     },
     "execution_count": 2,
     "metadata": {},
     "output_type": "execute_result"
    }
   ],
   "source": [
    "type(array)"
   ]
  },
  {
   "cell_type": "code",
   "execution_count": 3,
   "id": "93678075",
   "metadata": {},
   "outputs": [
    {
     "name": "stdout",
     "output_type": "stream",
     "text": [
      "1 <class 'numpy.int32'>\n",
      "2 <class 'numpy.int32'>\n",
      "3 <class 'numpy.int32'>\n",
      "4 <class 'numpy.int32'>\n",
      "5 <class 'numpy.int32'>\n"
     ]
    }
   ],
   "source": [
    "for val in array:\n",
    "    print(val, type(val))"
   ]
  },
  {
   "cell_type": "markdown",
   "id": "6193adf6",
   "metadata": {},
   "source": [
    "## np.arrange(start,finish,interval)"
   ]
  },
  {
   "cell_type": "code",
   "execution_count": 4,
   "id": "9f5a1097",
   "metadata": {},
   "outputs": [
    {
     "name": "stdout",
     "output_type": "stream",
     "text": [
      "[  0   1   2   3   4   5   6   7   8   9  10  11  12  13  14  15  16  17\n",
      "  18  19  20  21  22  23  24  25  26  27  28  29  30  31  32  33  34  35\n",
      "  36  37  38  39  40  41  42  43  44  45  46  47  48  49  50  51  52  53\n",
      "  54  55  56  57  58  59  60  61  62  63  64  65  66  67  68  69  70  71\n",
      "  72  73  74  75  76  77  78  79  80  81  82  83  84  85  86  87  88  89\n",
      "  90  91  92  93  94  95  96  97  98  99 100]\n"
     ]
    }
   ],
   "source": [
    "range_array = np.arange(0,101)\n",
    "print(range_array)"
   ]
  },
  {
   "cell_type": "code",
   "execution_count": 5,
   "id": "9a3682c1",
   "metadata": {},
   "outputs": [
    {
     "name": "stdout",
     "output_type": "stream",
     "text": [
      "[ 0  3  6  9 12 15 18 21 24 27 30 33 36 39 42 45 48 51 54 57 60 63 66 69\n",
      " 72 75 78 81 84 87 90 93 96 99]\n"
     ]
    }
   ],
   "source": [
    "range_array = np.arange(0,101, 3)\n",
    "print(range_array)"
   ]
  },
  {
   "cell_type": "code",
   "execution_count": 6,
   "id": "6e5e771b",
   "metadata": {},
   "outputs": [
    {
     "name": "stdout",
     "output_type": "stream",
     "text": [
      "[101  98  95  92  89  86  83  80  77  74  71  68  65  62  59  56  53  50\n",
      "  47  44  41  38  35  32  29  26  23  20  17  14  11   8   5   2]\n"
     ]
    }
   ],
   "source": [
    "range_array = np.arange(101, 0, -3)\n",
    "print(range_array)"
   ]
  },
  {
   "cell_type": "markdown",
   "id": "ab59574f",
   "metadata": {},
   "source": [
    "## forming an array with a list of different values"
   ]
  },
  {
   "cell_type": "code",
   "execution_count": 8,
   "id": "6c10184c",
   "metadata": {},
   "outputs": [
    {
     "name": "stdout",
     "output_type": "stream",
     "text": [
      "int_float_list\n",
      "1 <class 'int'>\n",
      "\n",
      "mystery array\n",
      "1 <class 'numpy.int32'>\n",
      "2 <class 'numpy.int32'>\n",
      "3 <class 'numpy.int32'>\n",
      "4 <class 'numpy.int32'>\n",
      "5 <class 'numpy.int32'>\n",
      "2 <class 'int'>\n",
      "\n",
      "mystery array\n",
      "1 <class 'numpy.int32'>\n",
      "2 <class 'numpy.int32'>\n",
      "3 <class 'numpy.int32'>\n",
      "4 <class 'numpy.int32'>\n",
      "5 <class 'numpy.int32'>\n",
      "3 <class 'int'>\n",
      "\n",
      "mystery array\n",
      "1 <class 'numpy.int32'>\n",
      "2 <class 'numpy.int32'>\n",
      "3 <class 'numpy.int32'>\n",
      "4 <class 'numpy.int32'>\n",
      "5 <class 'numpy.int32'>\n",
      "4 <class 'int'>\n",
      "\n",
      "mystery array\n",
      "1 <class 'numpy.int32'>\n",
      "2 <class 'numpy.int32'>\n",
      "3 <class 'numpy.int32'>\n",
      "4 <class 'numpy.int32'>\n",
      "5 <class 'numpy.int32'>\n",
      "5 <class 'int'>\n",
      "\n",
      "mystery array\n",
      "1 <class 'numpy.int32'>\n",
      "2 <class 'numpy.int32'>\n",
      "3 <class 'numpy.int32'>\n",
      "4 <class 'numpy.int32'>\n",
      "5 <class 'numpy.int32'>\n"
     ]
    }
   ],
   "source": [
    "int_float_list = [1,2,3,4,5]\n",
    "print(\"int_float_list\")\n",
    "for val in int_float_list:\n",
    "    print(val, type(val))\n",
    "    mystery_array = np.array(int_float_list)\n",
    "    print()\n",
    "    print(\"mystery array\")\n",
    "    for val in mystery_array:\n",
    "        print(val,type(val))\n",
    "        \n",
    "float_list = [1.,2.,3.,4.,5.]"
   ]
  },
  {
   "cell_type": "code",
   "execution_count": 10,
   "id": "ef68d275",
   "metadata": {},
   "outputs": [
    {
     "name": "stdout",
     "output_type": "stream",
     "text": [
      "int_float_list\n",
      "1 <class 'int'>\n",
      "2 <class 'int'>\n",
      "3 <class 'int'>\n",
      "4 <class 'int'>\n",
      "5 <class 'int'>\n",
      "\n",
      "mystery array\n",
      "1 <class 'numpy.int32'>\n",
      "2 <class 'numpy.int32'>\n",
      "3 <class 'numpy.int32'>\n",
      "4 <class 'numpy.int32'>\n",
      "5 <class 'numpy.int32'>\n",
      "\n",
      "float_array\n",
      "1.0 <class 'numpy.float64'>\n",
      "2.0 <class 'numpy.float64'>\n",
      "3.0 <class 'numpy.float64'>\n",
      "4.0 <class 'numpy.float64'>\n",
      "5.0 <class 'numpy.float64'>\n"
     ]
    }
   ],
   "source": [
    "int_float_list = [1,2,3,4,5]\n",
    "print(\"int_float_list\")\n",
    "for val in int_float_list:\n",
    "    print(val, type(val))\n",
    "mystery_array = np.array(int_float_list)\n",
    "print()\n",
    "    \n",
    "print(\"mystery array\")\n",
    "for val in mystery_array:\n",
    "        print(val,type(val))\n",
    "print() \n",
    "\n",
    "print(\"float_array\")\n",
    "float_list = [1.,2.,3.,4.,5.]\n",
    "float_array=np.array(float_list)\n",
    "for val in float_array:\n",
    "    print(val,type(val))"
   ]
  },
  {
   "cell_type": "markdown",
   "id": "ba3a0449",
   "metadata": {},
   "source": [
    "## Two Dimensional Lists and Arrays"
   ]
  },
  {
   "cell_type": "code",
   "execution_count": 11,
   "id": "8f8df78b",
   "metadata": {},
   "outputs": [
    {
     "name": "stdout",
     "output_type": "stream",
     "text": [
      "[[1, 2, 3], [2, 3, 4], [5, 6, 7]]\n"
     ]
    }
   ],
   "source": [
    "two_dim_list = [[1, 2, 3], [2, 3, 4], [5, 6, 7]]\n",
    "print(two_dim_list)"
   ]
  },
  {
   "cell_type": "code",
   "execution_count": 12,
   "id": "27cecefd",
   "metadata": {},
   "outputs": [
    {
     "name": "stdout",
     "output_type": "stream",
     "text": [
      "[1, 2, 3]\n",
      "[2, 3, 4]\n",
      "[5, 6, 7]\n"
     ]
    }
   ],
   "source": [
    "for val in two_dim_list:\n",
    "    print(val)"
   ]
  },
  {
   "cell_type": "code",
   "execution_count": 13,
   "id": "53c0e1c0",
   "metadata": {},
   "outputs": [
    {
     "name": "stdout",
     "output_type": "stream",
     "text": [
      "[1, 2, 3]\n",
      "[2, 3, 4]\n",
      "[5, 6, 7]\n"
     ]
    }
   ],
   "source": [
    "for lst in two_dim_list:\n",
    "    print(lst)"
   ]
  },
  {
   "cell_type": "code",
   "execution_count": 14,
   "id": "2f0ce64c",
   "metadata": {},
   "outputs": [
    {
     "name": "stdout",
     "output_type": "stream",
     "text": [
      "[1, 2, 3]\n",
      "1\n",
      "2\n",
      "3\n",
      "[2, 3, 4]\n",
      "2\n",
      "3\n",
      "4\n",
      "[5, 6, 7]\n",
      "5\n",
      "6\n",
      "7\n"
     ]
    }
   ],
   "source": [
    "for lst in two_dim_list:\n",
    "    print(lst)\n",
    "    for val in lst:\n",
    "        print(val)"
   ]
  },
  {
   "cell_type": "markdown",
   "id": "649d90e4",
   "metadata": {},
   "source": [
    "### transform two dimensional list to two dimensional using np.array(lst)"
   ]
  },
  {
   "cell_type": "code",
   "execution_count": 16,
   "id": "28952f20",
   "metadata": {},
   "outputs": [
    {
     "data": {
      "text/plain": [
       "array([[1, 2, 3],\n",
       "       [2, 3, 4],\n",
       "       [5, 6, 7]])"
      ]
     },
     "execution_count": 16,
     "metadata": {},
     "output_type": "execute_result"
    }
   ],
   "source": [
    "two_dim_array = np.array(two_dim_list)\n",
    "two_dim_array"
   ]
  },
  {
   "cell_type": "code",
   "execution_count": 17,
   "id": "ecf43904",
   "metadata": {},
   "outputs": [
    {
     "name": "stdout",
     "output_type": "stream",
     "text": [
      "[1 2 3]\n",
      "1\n",
      "2\n",
      "3\n",
      "[2 3 4]\n",
      "2\n",
      "3\n",
      "4\n",
      "[5 6 7]\n",
      "5\n",
      "6\n",
      "7\n"
     ]
    }
   ],
   "source": [
    "for array in two_dim_array:\n",
    "    print(array)\n",
    "    for val in array:\n",
    "        print(val)"
   ]
  },
  {
   "cell_type": "markdown",
   "id": "4079f385",
   "metadata": {},
   "source": [
    "## Changing the values of elements in an array"
   ]
  },
  {
   "cell_type": "code",
   "execution_count": 19,
   "id": "830ec4e6",
   "metadata": {},
   "outputs": [
    {
     "data": {
      "text/plain": [
       "array([[[0., 0., 0.],\n",
       "        [0., 0., 0.],\n",
       "        [0., 0., 0.]],\n",
       "\n",
       "       [[0., 0., 0.],\n",
       "        [0., 0., 0.],\n",
       "        [0., 0., 0.]],\n",
       "\n",
       "       [[0., 0., 0.],\n",
       "        [0., 0., 0.],\n",
       "        [0., 0., 0.]]])"
      ]
     },
     "execution_count": 19,
     "metadata": {},
     "output_type": "execute_result"
    }
   ],
   "source": [
    "array = np.zeros((3,3,3))\n",
    "array"
   ]
  },
  {
   "cell_type": "code",
   "execution_count": 20,
   "id": "fff103e0",
   "metadata": {},
   "outputs": [
    {
     "data": {
      "text/plain": [
       "array([[[0., 0.],\n",
       "        [0., 0.],\n",
       "        [0., 0.]],\n",
       "\n",
       "       [[0., 0.],\n",
       "        [0., 0.],\n",
       "        [0., 0.]],\n",
       "\n",
       "       [[0., 0.],\n",
       "        [0., 0.],\n",
       "        [0., 0.]]])"
      ]
     },
     "execution_count": 20,
     "metadata": {},
     "output_type": "execute_result"
    }
   ],
   "source": [
    "array = np.zeros((3,3,2))\n",
    "array"
   ]
  },
  {
   "cell_type": "code",
   "execution_count": 21,
   "id": "9cf48aa6",
   "metadata": {},
   "outputs": [
    {
     "data": {
      "text/plain": [
       "array([[0., 0., 0.],\n",
       "       [0., 0., 0.],\n",
       "       [0., 0., 0.]])"
      ]
     },
     "execution_count": 21,
     "metadata": {},
     "output_type": "execute_result"
    }
   ],
   "source": [
    "array = np.zeros((3,3))\n",
    "array"
   ]
  },
  {
   "cell_type": "code",
   "execution_count": 23,
   "id": "ac24ff73",
   "metadata": {},
   "outputs": [
    {
     "data": {
      "text/plain": [
       "array([[1., 0., 0.],\n",
       "       [0., 3., 0.],\n",
       "       [0., 0., 2.]])"
      ]
     },
     "execution_count": 23,
     "metadata": {},
     "output_type": "execute_result"
    }
   ],
   "source": [
    "array[0][0] = 1\n",
    "array[1][1] = 3\n",
    "array[2][2] = 2\n",
    "\n",
    "array"
   ]
  },
  {
   "cell_type": "markdown",
   "id": "32121691",
   "metadata": {},
   "source": [
    "### np.zeros creates an n-dimensional array (array of arrays) that is comprised of zeros that are floats.\n",
    "\n",
    "### If you want to create an n-dimensional array of zeros that are ints, you could create an n-dimensional list using zeros that are integers"
   ]
  },
  {
   "cell_type": "code",
   "execution_count": 24,
   "id": "bff12f76",
   "metadata": {},
   "outputs": [
    {
     "data": {
      "text/plain": [
       "array([[0, 0, 0],\n",
       "       [0, 0, 0],\n",
       "       [0, 0, 0]])"
      ]
     },
     "execution_count": 24,
     "metadata": {},
     "output_type": "execute_result"
    }
   ],
   "source": [
    "zero_lst_of_lsts = [[0,0,0], [0,0,0], [0,0,0]]\n",
    "np.array(zero_lst_of_lsts)"
   ]
  },
  {
   "cell_type": "code",
   "execution_count": 29,
   "id": "0f9d26ab",
   "metadata": {},
   "outputs": [
    {
     "data": {
      "text/plain": [
       "array([[0, 0, 0],\n",
       "       [0, 0, 0],\n",
       "       [0, 0, 0]])"
      ]
     },
     "execution_count": 29,
     "metadata": {},
     "output_type": "execute_result"
    }
   ],
   "source": [
    "zero_lst_of_lsts = [[0,0,0], [0,0,0], [0,0,0]]\n",
    "zero_array_of_arrays = np.array(zero_lst_of_lsts)\n",
    "zero_array_of_arrays"
   ]
  },
  {
   "cell_type": "code",
   "execution_count": 30,
   "id": "7b7f9756",
   "metadata": {},
   "outputs": [
    {
     "data": {
      "text/plain": [
       "array([[4, 0, 0],\n",
       "       [0, 0, 0],\n",
       "       [0, 0, 0]])"
      ]
     },
     "execution_count": 30,
     "metadata": {},
     "output_type": "execute_result"
    }
   ],
   "source": [
    "zero_array_of_arrays[0][0] = 4\n",
    "zero_array_of_arrays"
   ]
  },
  {
   "cell_type": "markdown",
   "id": "f8eada9f",
   "metadata": {},
   "source": [
    "# Logging Data"
   ]
  },
  {
   "cell_type": "code",
   "execution_count": 32,
   "id": "be9c0385",
   "metadata": {},
   "outputs": [
    {
     "data": {
      "text/plain": [
       "1.0"
      ]
     },
     "execution_count": 32,
     "metadata": {},
     "output_type": "execute_result"
    }
   ],
   "source": [
    "import numpy as np\n",
    "\n",
    "np.log(np.e)"
   ]
  },
  {
   "cell_type": "code",
   "execution_count": 33,
   "id": "ab602400",
   "metadata": {},
   "outputs": [
    {
     "data": {
      "text/plain": [
       "1.0"
      ]
     },
     "execution_count": 33,
     "metadata": {},
     "output_type": "execute_result"
    }
   ],
   "source": [
    "np.log10(10)"
   ]
  },
  {
   "cell_type": "code",
   "execution_count": 35,
   "id": "0a242d03",
   "metadata": {},
   "outputs": [
    {
     "data": {
      "text/plain": [
       "2.0"
      ]
     },
     "execution_count": 35,
     "metadata": {},
     "output_type": "execute_result"
    }
   ],
   "source": [
    "np.log10(100)"
   ]
  },
  {
   "cell_type": "code",
   "execution_count": 36,
   "id": "7c179318",
   "metadata": {},
   "outputs": [
    {
     "name": "stdout",
     "output_type": "stream",
     "text": [
      "0.0\n",
      "1.0413926851582251\n",
      "1.3222192947339193\n",
      "1.4913616938342726\n",
      "1.6127838567197355\n",
      "1.7075701760979363\n",
      "1.7853298350107671\n",
      "1.8512583487190752\n",
      "1.9084850188786497\n",
      "1.9590413923210936\n",
      "2.0043213737826426\n",
      "2.0453229787866576\n",
      "2.0827853703164503\n",
      "2.1172712956557644\n",
      "2.1492191126553797\n",
      "2.1789769472931693\n",
      "2.2068258760318495\n",
      "2.2329961103921536\n",
      "2.2576785748691846\n",
      "2.2810333672477277\n",
      "2.303196057420489\n",
      "2.3242824552976926\n",
      "2.3443922736851106\n",
      "2.3636119798921444\n",
      "2.3820170425748683\n",
      "2.399673721481038\n",
      "2.416640507338281\n",
      "2.432969290874406\n",
      "2.44870631990508\n",
      "2.4638929889859074\n",
      "2.4785664955938436\n",
      "2.4927603890268375\n",
      "2.506505032404872\n",
      "2.519827993775719\n",
      "2.5327543789924976\n",
      "2.545307116465824\n",
      "2.5575072019056577\n",
      "2.569373909615046\n",
      "2.5809249756756194\n",
      "2.5921767573958667\n",
      "2.603144372620182\n",
      "2.6138418218760693\n",
      "2.6242820958356683\n",
      "2.6344772701607315\n",
      "2.6444385894678386\n",
      "2.6541765418779604\n",
      "2.663700925389648\n",
      "2.673020907128896\n",
      "2.682145076373832\n",
      "2.6910814921229687\n",
      "2.699837725867246\n",
      "2.708420900134713\n",
      "2.7168377232995247\n",
      "2.725094521081469\n",
      "2.7331972651065692\n",
      "2.741151598851785\n",
      "2.7489628612561616\n",
      "2.756636108245848\n",
      "2.7641761323903307\n",
      "2.7715874808812555\n",
      "2.7788744720027396\n",
      "2.786041210242554\n",
      "2.79309160017658\n",
      "2.8000293592441343\n",
      "2.8068580295188172\n",
      "2.813580988568192\n",
      "2.82020145948564\n",
      "2.826722520168992\n",
      "2.833147111912785\n",
      "2.8394780473741985\n",
      "2.8457180179666586\n",
      "2.851869600729766\n",
      "2.857935264719429\n",
      "2.8639173769578603\n",
      "2.869818207979328\n",
      "2.8756399370041685\n",
      "2.8813846567705728\n",
      "2.8870543780509568\n",
      "2.8926510338773004\n",
      "2.8981764834976764\n",
      "2.9036325160842376\n",
      "2.909020854211156\n",
      "2.9143431571194407\n",
      "2.919601023784111\n",
      "2.924795995797912\n",
      "2.929929560084588\n",
      "2.935003151453655\n",
      "2.9400181550076634\n",
      "2.9449759084120477\n",
      "2.949877704036875\n",
      "2.954724790979063\n",
      "2.9595183769729982\n",
      "2.964259630196849\n",
      "2.9689496809813427\n",
      "2.973589623427257\n",
      "2.978180516937414\n",
      "2.9827233876685453\n",
      "2.9872192299080047\n",
      "2.9916690073799486\n",
      "2.9960736544852753\n"
     ]
    }
   ],
   "source": [
    "for i in range (1, 1000, 10):\n",
    "    print(np.log10(i))"
   ]
  },
  {
   "cell_type": "code",
   "execution_count": 37,
   "id": "b36efe85",
   "metadata": {},
   "outputs": [
    {
     "name": "stdout",
     "output_type": "stream",
     "text": [
      "10 1.0\n",
      "20 1.3010299956639813\n",
      "30 1.4771212547196624\n",
      "40 1.6020599913279623\n",
      "50 1.6989700043360187\n",
      "60 1.7781512503836436\n",
      "70 1.845098040014257\n",
      "80 1.9030899869919435\n",
      "90 1.954242509439325\n",
      "100 2.0\n",
      "110 2.041392685158225\n",
      "120 2.0791812460476247\n",
      "130 2.113943352306837\n",
      "140 2.146128035678238\n",
      "150 2.1760912590556813\n",
      "160 2.2041199826559246\n",
      "170 2.230448921378274\n",
      "180 2.255272505103306\n",
      "190 2.278753600952829\n",
      "200 2.3010299956639813\n",
      "210 2.322219294733919\n",
      "220 2.342422680822206\n",
      "230 2.361727836017593\n",
      "240 2.380211241711606\n",
      "250 2.3979400086720375\n",
      "260 2.4149733479708178\n",
      "270 2.4313637641589874\n",
      "280 2.4471580313422194\n",
      "290 2.462397997898956\n",
      "300 2.4771212547196626\n",
      "310 2.4913616938342726\n",
      "320 2.505149978319906\n",
      "330 2.5185139398778875\n",
      "340 2.531478917042255\n",
      "350 2.5440680443502757\n",
      "360 2.5563025007672873\n",
      "370 2.568201724066995\n",
      "380 2.57978359661681\n",
      "390 2.591064607026499\n",
      "400 2.6020599913279625\n",
      "410 2.6127838567197355\n",
      "420 2.6232492903979003\n",
      "430 2.6334684555795866\n",
      "440 2.6434526764861874\n",
      "450 2.6532125137753435\n",
      "460 2.662757831681574\n",
      "470 2.6720978579357175\n",
      "480 2.681241237375587\n",
      "490 2.690196080028514\n",
      "500 2.6989700043360187\n",
      "510 2.7075701760979363\n",
      "520 2.716003343634799\n",
      "530 2.724275869600789\n",
      "540 2.7323937598229686\n",
      "550 2.7403626894942437\n",
      "560 2.7481880270062002\n",
      "570 2.7558748556724915\n",
      "580 2.7634279935629373\n",
      "590 2.7708520116421442\n",
      "600 2.7781512503836434\n",
      "610 2.785329835010767\n",
      "620 2.792391689498254\n",
      "630 2.7993405494535817\n",
      "640 2.806179973983887\n",
      "650 2.8129133566428557\n",
      "660 2.8195439355418688\n",
      "670 2.8260748027008264\n",
      "680 2.832508912706236\n",
      "690 2.838849090737255\n",
      "700 2.845098040014257\n",
      "710 2.8512583487190755\n",
      "720 2.8573324964312685\n",
      "730 2.863322860120456\n",
      "740 2.8692317197309762\n",
      "750 2.8750612633917\n",
      "760 2.8808135922807914\n",
      "770 2.886490725172482\n",
      "780 2.8920946026904804\n",
      "790 2.8976270912904414\n",
      "800 2.9030899869919438\n",
      "810 2.90848501887865\n",
      "820 2.9138138523837167\n",
      "830 2.9190780923760737\n",
      "840 2.9242792860618816\n",
      "850 2.929418925714293\n",
      "860 2.934498451243568\n",
      "870 2.9395192526186187\n",
      "880 2.9444826721501687\n",
      "890 2.949390006644913\n",
      "900 2.9542425094393248\n",
      "910 2.9590413923210934\n",
      "920 2.963787827345555\n",
      "930 2.9684829485539352\n",
      "940 2.9731278535996988\n",
      "950 2.9777236052888476\n",
      "960 2.9822712330395684\n",
      "970 2.9867717342662448\n",
      "980 2.9912260756924947\n",
      "990 2.99563519459755\n"
     ]
    }
   ],
   "source": [
    "for i in range (10, 1000, 10):\n",
    "    print(i, np.log10(i))"
   ]
  },
  {
   "cell_type": "code",
   "execution_count": 38,
   "id": "dd2820e6",
   "metadata": {},
   "outputs": [
    {
     "name": "stdout",
     "output_type": "stream",
     "text": [
      "10 1.0\n",
      "20 1.3010299956639813\n",
      "30 1.4771212547196624\n",
      "40 1.6020599913279623\n",
      "50 1.6989700043360187\n",
      "60 1.7781512503836436\n",
      "70 1.845098040014257\n",
      "80 1.9030899869919435\n",
      "90 1.954242509439325\n",
      "100 2.0\n",
      "110 2.041392685158225\n",
      "120 2.0791812460476247\n",
      "130 2.113943352306837\n",
      "140 2.146128035678238\n",
      "150 2.1760912590556813\n",
      "160 2.2041199826559246\n",
      "170 2.230448921378274\n",
      "180 2.255272505103306\n",
      "190 2.278753600952829\n",
      "200 2.3010299956639813\n",
      "210 2.322219294733919\n",
      "220 2.342422680822206\n",
      "230 2.361727836017593\n",
      "240 2.380211241711606\n",
      "250 2.3979400086720375\n",
      "260 2.4149733479708178\n",
      "270 2.4313637641589874\n",
      "280 2.4471580313422194\n",
      "290 2.462397997898956\n",
      "300 2.4771212547196626\n",
      "310 2.4913616938342726\n",
      "320 2.505149978319906\n",
      "330 2.5185139398778875\n",
      "340 2.531478917042255\n",
      "350 2.5440680443502757\n",
      "360 2.5563025007672873\n",
      "370 2.568201724066995\n",
      "380 2.57978359661681\n",
      "390 2.591064607026499\n",
      "400 2.6020599913279625\n",
      "410 2.6127838567197355\n",
      "420 2.6232492903979003\n",
      "430 2.6334684555795866\n",
      "440 2.6434526764861874\n",
      "450 2.6532125137753435\n",
      "460 2.662757831681574\n",
      "470 2.6720978579357175\n",
      "480 2.681241237375587\n",
      "490 2.690196080028514\n",
      "500 2.6989700043360187\n",
      "510 2.7075701760979363\n",
      "520 2.716003343634799\n",
      "530 2.724275869600789\n",
      "540 2.7323937598229686\n",
      "550 2.7403626894942437\n",
      "560 2.7481880270062002\n",
      "570 2.7558748556724915\n",
      "580 2.7634279935629373\n",
      "590 2.7708520116421442\n",
      "600 2.7781512503836434\n",
      "610 2.785329835010767\n",
      "620 2.792391689498254\n",
      "630 2.7993405494535817\n",
      "640 2.806179973983887\n",
      "650 2.8129133566428557\n",
      "660 2.8195439355418688\n",
      "670 2.8260748027008264\n",
      "680 2.832508912706236\n",
      "690 2.838849090737255\n",
      "700 2.845098040014257\n",
      "710 2.8512583487190755\n",
      "720 2.8573324964312685\n",
      "730 2.863322860120456\n",
      "740 2.8692317197309762\n",
      "750 2.8750612633917\n",
      "760 2.8808135922807914\n",
      "770 2.886490725172482\n",
      "780 2.8920946026904804\n",
      "790 2.8976270912904414\n",
      "800 2.9030899869919438\n",
      "810 2.90848501887865\n",
      "820 2.9138138523837167\n",
      "830 2.9190780923760737\n",
      "840 2.9242792860618816\n",
      "850 2.929418925714293\n",
      "860 2.934498451243568\n",
      "870 2.9395192526186187\n",
      "880 2.9444826721501687\n",
      "890 2.949390006644913\n",
      "900 2.9542425094393248\n",
      "910 2.9590413923210934\n",
      "920 2.963787827345555\n",
      "930 2.9684829485539352\n",
      "940 2.9731278535996988\n",
      "950 2.9777236052888476\n",
      "960 2.9822712330395684\n",
      "970 2.9867717342662448\n",
      "980 2.9912260756924947\n",
      "990 2.99563519459755\n",
      "1000 3.0\n"
     ]
    }
   ],
   "source": [
    "for i in range (10, 1001, 10):\n",
    "    print(i, np.log10(i))"
   ]
  }
 ],
 "metadata": {
  "kernelspec": {
   "display_name": "Python 3",
   "language": "python",
   "name": "python3"
  },
  "language_info": {
   "codemirror_mode": {
    "name": "ipython",
    "version": 3
   },
   "file_extension": ".py",
   "mimetype": "text/x-python",
   "name": "python",
   "nbconvert_exporter": "python",
   "pygments_lexer": "ipython3",
   "version": "3.8.8"
  }
 },
 "nbformat": 4,
 "nbformat_minor": 5
}
