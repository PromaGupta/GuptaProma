{
 "cells": [
  {
   "cell_type": "markdown",
   "id": "3730e7e2",
   "metadata": {},
   "source": [
    "# Loop"
   ]
  },
  {
   "cell_type": "code",
   "execution_count": 4,
   "id": "ec87d7c9",
   "metadata": {},
   "outputs": [
    {
     "name": "stdout",
     "output_type": "stream",
     "text": [
      "list1: [1, 2, 3, 4, 5]\n",
      "list2: [6, 5, 4, 3, 100]\n",
      "0 1\n",
      "1 2\n",
      "2 3\n",
      "3 4\n",
      "4 5\n",
      "[1, 2, 3, 4, 5]\n",
      "0 6\n",
      "1 5\n",
      "2 4\n",
      "3 3\n",
      "4 100\n",
      "[1, 2, 3, 4, 5, 6, 5, 4, 3, 100] [1, 2, 3, 4, 5, 6, 5, 4, 3, 100]\n",
      "sum_list (append): [7, 7, 7, 7, 105]\n",
      "sum_list (insert): [7, 7, 7, 7]\n"
     ]
    }
   ],
   "source": [
    "list1 = [1,2,3,4,5]\n",
    "list2 = [6,5,4,3,100]\n",
    "\n",
    "print(\"list1:\", list1)\n",
    "print(\"list2:\", list2)\n",
    "\n",
    "# create a blank list that we will use to generate the same\n",
    "# results that we achieved using the + sign: concatenation\n",
    "concat_list = []\n",
    "\n",
    "len_list1 = len(list1)\n",
    "len_list2 = len(list2)\n",
    "\n",
    "# first let's concatenate\n",
    "for i in range(0,len_list1):\n",
    "    concat_list.append(list1[i])\n",
    "    print(i, list1[i])\n",
    "    \n",
    "print(concat_list)\n",
    "\n",
    "for i in range(0, len_list2):\n",
    "    print(i, list2[i])\n",
    "    concat_list.append(list2[i])\n",
    "    \n",
    "print(concat_list, list1 + list2)\n",
    "\n",
    "sum_list = []\n",
    "if len_list1 == len_list2:\n",
    "    for i in range(len_list1):\n",
    "        sum_list.append(list1[i] + list2[i])\n",
    "print(\"sum_list (append):\", sum_list)\n",
    "\n",
    "sum_list = []\n",
    "if len_list1 == len_list2:\n",
    "    for i in range(0, len_list1 - 1):\n",
    "        # lst.insert(index, value)\n",
    "        sum_list.insert(i, list1[i] + list2[i])\n",
    "print(\"sum_list (insert):\", sum_list)"
   ]
  },
  {
   "cell_type": "code",
   "execution_count": 5,
   "id": "3c9e8336",
   "metadata": {},
   "outputs": [
    {
     "data": {
      "text/plain": [
       "True"
      ]
     },
     "execution_count": 5,
     "metadata": {},
     "output_type": "execute_result"
    }
   ],
   "source": [
    "1 == 1"
   ]
  },
  {
   "cell_type": "code",
   "execution_count": 6,
   "id": "a30bd753",
   "metadata": {},
   "outputs": [
    {
     "data": {
      "text/plain": [
       "False"
      ]
     },
     "execution_count": 6,
     "metadata": {},
     "output_type": "execute_result"
    }
   ],
   "source": [
    "1 != 1  # =/="
   ]
  },
  {
   "cell_type": "code",
   "execution_count": 8,
   "id": "6d828f95",
   "metadata": {},
   "outputs": [
    {
     "name": "stdout",
     "output_type": "stream",
     "text": [
      "statement is True\n"
     ]
    }
   ],
   "source": [
    "if 1 == 1:\n",
    " print(\"statement is\", 1 == 1)"
   ]
  },
  {
   "cell_type": "code",
   "execution_count": 17,
   "id": "8ff5cf7b",
   "metadata": {},
   "outputs": [
    {
     "name": "stdout",
     "output_type": "stream",
     "text": [
      "i == 0 i < 5: True\n",
      "i == 1 i < 5: True\n",
      "i == 2 i < 5: True\n",
      "i == 3 i < 5: True\n",
      "i == 4 i < 5: True\n",
      "i == 5 i < 5: False\n",
      "i == 6 i < 5: False\n",
      "i == 7 i < 5: False\n",
      "i == 8 i < 5: False\n",
      "i == 9 i < 5: False\n"
     ]
    }
   ],
   "source": [
    "for i in range(10):\n",
    "    print(\"i ==\", i, \"i < 5:\", i < 5)\n",
    "    "
   ]
  },
  {
   "cell_type": "code",
   "execution_count": 22,
   "id": "f6648bfb",
   "metadata": {},
   "outputs": [
    {
     "name": "stdout",
     "output_type": "stream",
     "text": [
      "[5, 4, 8, 0, 3, 5]\n",
      "['red', 'blue', 'orange', 'white', 'grey', 'black']\n"
     ]
    },
    {
     "data": {
      "text/plain": [
       "([8, 5, 5, 4, 3, 0], ['black', 'grey', 'red'])"
      ]
     },
     "execution_count": 22,
     "metadata": {},
     "output_type": "execute_result"
    }
   ],
   "source": [
    "list1 = [5, \n",
    "         4, \n",
    "         8,\n",
    "         0,\n",
    "         3,\n",
    "         5]\n",
    "list2 = [\"red\", \n",
    "         \"blue\", \n",
    "         \"orange\", \n",
    "         \"white\", \n",
    "         \"grey\", \n",
    "         \"black\"]\n",
    "\n",
    "print(list1)\n",
    "print(list2)\n",
    "\n",
    "sorted_list1 = sorted(list1)#, reverse = True)\n",
    "sorted_list2 = sorted(list2)\n",
    "\n",
    "sorted_list1[::-1], sorted_list2[::2]"
   ]
  },
  {
   "cell_type": "code",
   "execution_count": 23,
   "id": "148e8c2d",
   "metadata": {},
   "outputs": [
    {
     "name": "stdout",
     "output_type": "stream",
     "text": [
      "TypeError: unorderable types: str < int\n",
      "['1', '22', '3', '23', '5']\n",
      "[1, 22, 3, 23, 5]\n"
     ]
    },
    {
     "data": {
      "text/plain": [
       "(['1', '22', '23', '3', '5'], [1, 3, 5, 22, 23])"
      ]
     },
     "execution_count": 23,
     "metadata": {},
     "output_type": "execute_result"
    }
   ],
   "source": [
    "list3 = [\"1\", 22, \"3\", 23, \"5\"]\n",
    "try:\n",
    "    sorted_list3 = sorted(list3)\n",
    "except:\n",
    "    print(\"TypeError: unorderable types: str < int\")\n",
    "\n",
    "# generator function creates list using for loop\n",
    "# within the list created\n",
    "alpha_list3 = [str(val) for val in list3]\n",
    "\n",
    "num_list3 = []\n",
    "for val in list3:\n",
    "    num_list3.append(int(val))\n",
    "print(alpha_list3)\n",
    "print(num_list3)\n",
    "sorted(alpha_list3), sorted(num_list3)"
   ]
  },
  {
   "cell_type": "code",
   "execution_count": 24,
   "id": "4fe1939b",
   "metadata": {},
   "outputs": [
    {
     "name": "stdout",
     "output_type": "stream",
     "text": [
      "i j\n",
      "0 0\n",
      "0 0\n",
      "0 0\n",
      "0 0\n",
      "0 1\n",
      "0 1\n",
      "0 1\n",
      "0 1\n",
      "0 2\n",
      "0 2\n",
      "0 2\n",
      "0 2\n",
      "0 3\n",
      "0 3\n",
      "0 3\n",
      "0 3\n",
      "0 4\n",
      "0 4\n",
      "0 4\n",
      "0 4\n",
      "1 0\n",
      "1 0\n",
      "1 0\n",
      "1 0\n",
      "1 1\n",
      "1 1\n",
      "1 1\n",
      "1 1\n",
      "1 2\n",
      "1 2\n",
      "1 2\n",
      "1 2\n",
      "1 3\n",
      "1 3\n",
      "1 3\n",
      "1 3\n",
      "1 4\n",
      "1 4\n",
      "1 4\n",
      "1 4\n",
      "2 0\n",
      "2 0\n",
      "2 0\n",
      "2 0\n",
      "2 1\n",
      "2 1\n",
      "2 1\n",
      "2 1\n",
      "2 2\n",
      "2 2\n",
      "2 2\n",
      "2 2\n",
      "2 3\n",
      "2 3\n",
      "2 3\n",
      "2 3\n",
      "2 4\n",
      "2 4\n",
      "2 4\n",
      "2 4\n",
      "[0, 1, 2]\n",
      "[0, 1, 2, 3, 4]\n"
     ]
    }
   ],
   "source": [
    "\n",
    "print(\"i\", \"j\")\n",
    "i_list = list(range(3))\n",
    "j_list = list(range(5))\n",
    "\n",
    "for i in range(3):\n",
    "    for j in range(5):\n",
    "        for k in range(4):\n",
    "            print(i, j)\n",
    "print(i_list, j_list, sep = \"\\n\")"
   ]
  },
  {
   "cell_type": "code",
   "execution_count": 25,
   "id": "05f8c369",
   "metadata": {},
   "outputs": [
    {
     "name": "stdout",
     "output_type": "stream",
     "text": [
      "i j k\n",
      "0 0 0\n",
      "0 0 1\n",
      "0 0 2\n",
      "0 0 3\n",
      "0 1 0\n",
      "0 1 1\n",
      "0 1 2\n",
      "0 1 3\n",
      "0 2 0\n",
      "0 2 1\n",
      "0 2 2\n",
      "0 2 3\n",
      "0 3 0\n",
      "0 3 1\n",
      "0 3 2\n",
      "0 3 3\n",
      "0 4 0\n",
      "0 4 1\n",
      "0 4 2\n",
      "0 4 3\n",
      "1 0 0\n",
      "1 0 1\n",
      "1 0 2\n",
      "1 0 3\n",
      "1 1 0\n",
      "1 1 1\n",
      "1 1 2\n",
      "1 1 3\n",
      "1 2 0\n",
      "1 2 1\n",
      "1 2 2\n",
      "1 2 3\n",
      "1 3 0\n",
      "1 3 1\n",
      "1 3 2\n",
      "1 3 3\n",
      "1 4 0\n",
      "1 4 1\n",
      "1 4 2\n",
      "1 4 3\n",
      "2 0 0\n",
      "2 0 1\n",
      "2 0 2\n",
      "2 0 3\n",
      "2 1 0\n",
      "2 1 1\n",
      "2 1 2\n",
      "2 1 3\n",
      "2 2 0\n",
      "2 2 1\n",
      "2 2 2\n",
      "2 2 3\n",
      "2 3 0\n",
      "2 3 1\n",
      "2 3 2\n",
      "2 3 3\n",
      "2 4 0\n",
      "2 4 1\n",
      "2 4 2\n",
      "2 4 3\n",
      "[0, 1, 2]\n",
      "[0, 1, 2, 3, 4]\n",
      "[0, 1, 2, 3]\n"
     ]
    }
   ],
   "source": [
    "print(\"i\", \"j\", \"k\")\n",
    "i_list = list(range(3))\n",
    "j_list = list(range(5))\n",
    "k_list = list(range(4))\n",
    "for i in range(3):\n",
    "    for j in range(5):\n",
    "        for k in range(4):\n",
    "            print(i, j, k)\n",
    "print(i_list, j_list, k_list, sep = \"\\n\")"
   ]
  }
 ],
 "metadata": {
  "kernelspec": {
   "display_name": "Python 3",
   "language": "python",
   "name": "python3"
  },
  "language_info": {
   "codemirror_mode": {
    "name": "ipython",
    "version": 3
   },
   "file_extension": ".py",
   "mimetype": "text/x-python",
   "name": "python",
   "nbconvert_exporter": "python",
   "pygments_lexer": "ipython3",
   "version": "3.8.8"
  }
 },
 "nbformat": 4,
 "nbformat_minor": 5
}
