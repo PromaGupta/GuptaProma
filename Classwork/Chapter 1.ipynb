{
 "cells": [
  {
   "cell_type": "markdown",
   "id": "8b60975e",
   "metadata": {},
   "source": [
    "# Introduction to Jupyter\n",
    "This is my first program of learning Python"
   ]
  },
  {
   "cell_type": "code",
   "execution_count": 1,
   "id": "86abeeae",
   "metadata": {},
   "outputs": [
    {
     "name": "stdout",
     "output_type": "stream",
     "text": [
      "john nash\n"
     ]
    }
   ],
   "source": [
    "msg = \"john nash\"\n",
    "print(msg)"
   ]
  },
  {
   "cell_type": "markdown",
   "id": "f958fa7a",
   "metadata": {},
   "source": [
    "If we want to make capital letter or small letter of the above John Nash, then:"
   ]
  },
  {
   "cell_type": "code",
   "execution_count": 2,
   "id": "d5f38f69",
   "metadata": {},
   "outputs": [
    {
     "name": "stdout",
     "output_type": "stream",
     "text": [
      "JOHN NASH\n",
      "John Nash\n"
     ]
    }
   ],
   "source": [
    "print(msg.upper())\n",
    "print(msg.title())"
   ]
  },
  {
   "cell_type": "markdown",
   "id": "81aa59ba",
   "metadata": {},
   "source": [
    "# String Concatenation"
   ]
  },
  {
   "cell_type": "code",
   "execution_count": 4,
   "id": "007b34fd",
   "metadata": {},
   "outputs": [
    {
     "name": "stdout",
     "output_type": "stream",
     "text": [
      "You thought it would be easy\n",
      "You thought it wouldn't be strange\n",
      "But then you started coding\n",
      "Things never were the same\n"
     ]
    }
   ],
   "source": [
    "\n",
    "line1 = \"You thought it would be easy\"\n",
    "line2 = \"You thought it wouldn't be strange\"\n",
    "line3 = \"But then you started coding\"\n",
    "line4 = \"Things never were the same\"\n",
    "\n",
    "print(line1)\n",
    "print(line2)\n",
    "print(line3)\n",
    "print(line4)"
   ]
  },
  {
   "cell_type": "code",
   "execution_count": 5,
   "id": "9ad64ca1",
   "metadata": {},
   "outputs": [
    {
     "name": "stdout",
     "output_type": "stream",
     "text": [
      "You thought it would be easyYou thought it wouldn't be strangeBut then you started codingThings never were the same\n"
     ]
    }
   ],
   "source": [
    "print(line1+line2+line3+line4)"
   ]
  },
  {
   "cell_type": "code",
   "execution_count": 6,
   "id": "ccaa5e09",
   "metadata": {},
   "outputs": [
    {
     "name": "stdout",
     "output_type": "stream",
     "text": [
      "You thought it would be easyYou thought it wouldn't be strangeBut then you started codingThings never were the same\n"
     ]
    }
   ],
   "source": [
    "concat_strings = line1+line2+line3+line4\n",
    "print(concat_strings)"
   ]
  },
  {
   "cell_type": "code",
   "execution_count": 8,
   "id": "1686332b",
   "metadata": {},
   "outputs": [
    {
     "name": "stdout",
     "output_type": "stream",
     "text": [
      "You thought it would be easy\n",
      "You thought it wouldn't be strange\n",
      "But then you started coding\n",
      "Things never were the same\n"
     ]
    }
   ],
   "source": [
    "print(line1,line2,line3,line4,sep = \"\\n\")"
   ]
  },
  {
   "cell_type": "markdown",
   "id": "6f196d9d",
   "metadata": {},
   "source": [
    "# Formula\n",
    "By using the option, sep = \"\\n\", each comma is interpretted as a new line. It is the same as adding \"\\n\" to every line."
   ]
  },
  {
   "cell_type": "markdown",
   "id": "fb1e74a7",
   "metadata": {},
   "source": [
    "# Distinction Double & Single Quotes\n"
   ]
  },
  {
   "cell_type": "code",
   "execution_count": 20,
   "id": "fb9274fe",
   "metadata": {},
   "outputs": [
    {
     "name": "stdout",
     "output_type": "stream",
     "text": [
      "We may use 'single quotes' within double quotes\n",
      "We  may use \"double quotes\" in double quotes\n",
      "We may use \"double quotes\" in double quotes.\n",
      "We may use 'single quotes' in single quotes.\n"
     ]
    }
   ],
   "source": [
    "single_in_double = \"We may use 'single quotes' within double quotes\"\n",
    "double_in_single = 'We  may use \"double quotes\" in double quotes'\n",
    "double_in_double = \"We may use \\\"double quotes\\\" in double quotes.\"\n",
    "single_in_single = 'We may use \\'single quotes\\' in single quotes.'\n",
    "\n",
    "print(single_in_double)      \n",
    "print(double_in_single)\n",
    "print(double_in_double)\n",
    "print(single_in_single)"
   ]
  },
  {
   "cell_type": "code",
   "execution_count": 21,
   "id": "89ab1bcf",
   "metadata": {},
   "outputs": [
    {
     "name": "stdout",
     "output_type": "stream",
     "text": [
      "We may use two backslashes for a single backslash: \\\n",
      "We may start a new line \n",
      "\tand use tab for a hanging indent\n"
     ]
    }
   ],
   "source": [
    "read_backslash = \\\n",
    "    \"We may use two backslashes for a single backslash: \\\\\"\n",
    "new_line_and_tab = \\\n",
    "    \"We may start a new line \\n\\tand use tab for a hanging indent\"\n",
    "print(read_backslash)\n",
    "print(new_line_and_tab)"
   ]
  },
  {
   "cell_type": "markdown",
   "id": "b424c99d",
   "metadata": {},
   "source": [
    "# .strip() and .replace() string methods"
   ]
  },
  {
   "cell_type": "code",
   "execution_count": 25,
   "id": "cbc8750a",
   "metadata": {},
   "outputs": [
    {
     "name": "stdout",
     "output_type": "stream",
     "text": [
      "no spaces removed:\n",
      "    Look at the spaces in the text!    \n",
      "Remove left spaces: Look at the spaces in the text!    \n",
      "Remove right spaces:     Look at the spaces in the text!\n",
      "Remove left and right spaces: Look at the spaces in the text!\n",
      "Remove all spaces: Lookatthespacesinthetext!\n",
      "Capitalize all first letters: Look At The Spaces In The Text!    \n"
     ]
    }
   ],
   "source": [
    "spaces = \"    Look at the spaces in the text!    \"\n",
    "print(\"no spaces removed:\", spaces, sep = \"\\n\")\n",
    "\n",
    "remove_left_spaces = spaces.lstrip()\n",
    "remove_right_spaces = spaces.rstrip()\n",
    "remove_left_and_right_spaces = spaces.strip()\n",
    "remove_all_spaces = spaces.replace(\" \",\"\")\n",
    "\n",
    "print(\"Remove left spaces:\", remove_left_spaces)\n",
    "print(\"Remove right spaces:\", remove_right_spaces)\n",
    "print(\"Remove left and right spaces:\", remove_left_and_right_spaces)\n",
    "print(\"Remove all spaces:\", remove_all_spaces)\n",
    "\n",
    "print(\"Capitalize all first letters:\", remove_left_spaces.title())"
   ]
  },
  {
   "cell_type": "markdown",
   "id": "bb5640a9",
   "metadata": {},
   "source": [
    "# Working with Values"
   ]
  },
  {
   "cell_type": "code",
   "execution_count": 26,
   "id": "b36d5cd3",
   "metadata": {},
   "outputs": [
    {
     "name": "stdout",
     "output_type": "stream",
     "text": [
      "num1: 8 \n",
      "num1s: 53\n"
     ]
    }
   ],
   "source": [
    "num1 = 5 + 3\n",
    "num1s = \"5\" + \"3\"\n",
    "\n",
    "print(\"num1:\", num1,\"\\nnum1s:\", num1s)"
   ]
  },
  {
   "cell_type": "code",
   "execution_count": 27,
   "id": "8d58c270",
   "metadata": {},
   "outputs": [
    {
     "name": "stdout",
     "output_type": "stream",
     "text": [
      "num1: 1.6666666666666667\n",
      "num2: 1.25\n",
      "num3: 1.3333333333333333\n"
     ]
    }
   ],
   "source": [
    "num1 = 5 / 3\n",
    "num2 = 5 / 4\n",
    "num3 = 4 / 3\n",
    "\n",
    "print(\"num1:\", num1)\n",
    "print(\"num2:\", num2)\n",
    "print(\"num3:\", num3)"
   ]
  },
  {
   "cell_type": "code",
   "execution_count": 28,
   "id": "4a6304d4",
   "metadata": {},
   "outputs": [
    {
     "data": {
      "text/plain": [
       "float"
      ]
     },
     "execution_count": 28,
     "metadata": {},
     "output_type": "execute_result"
    }
   ],
   "source": [
    "type(num1)"
   ]
  },
  {
   "cell_type": "code",
   "execution_count": 29,
   "id": "7ef8348e",
   "metadata": {},
   "outputs": [
    {
     "data": {
      "text/plain": [
       "3.0"
      ]
     },
     "execution_count": 29,
     "metadata": {},
     "output_type": "execute_result"
    }
   ],
   "source": [
    "float(3)"
   ]
  },
  {
   "cell_type": "code",
   "execution_count": 30,
   "id": "39f5c962",
   "metadata": {},
   "outputs": [
    {
     "data": {
      "text/plain": [
       "4.5"
      ]
     },
     "execution_count": 30,
     "metadata": {},
     "output_type": "execute_result"
    }
   ],
   "source": [
    "3 + 1.5"
   ]
  },
  {
   "cell_type": "code",
   "execution_count": 31,
   "id": "22ff29dc",
   "metadata": {},
   "outputs": [
    {
     "data": {
      "text/plain": [
       "float"
      ]
     },
     "execution_count": 31,
     "metadata": {},
     "output_type": "execute_result"
    }
   ],
   "source": [
    "type(3 + 1.5)"
   ]
  },
  {
   "cell_type": "code",
   "execution_count": 32,
   "id": "48a72725",
   "metadata": {},
   "outputs": [
    {
     "data": {
      "text/plain": [
       "sys.float_info(max=1.7976931348623157e+308, max_exp=1024, max_10_exp=308, min=2.2250738585072014e-308, min_exp=-1021, min_10_exp=-307, dig=15, mant_dig=53, epsilon=2.220446049250313e-16, radix=2, rounds=1)"
      ]
     },
     "execution_count": 32,
     "metadata": {},
     "output_type": "execute_result"
    }
   ],
   "source": [
    "import sys\n",
    "sys.float_info"
   ]
  },
  {
   "cell_type": "code",
   "execution_count": 33,
   "id": "346a3bca",
   "metadata": {},
   "outputs": [
    {
     "data": {
      "text/plain": [
       "8.98846567431158e+307"
      ]
     },
     "execution_count": 33,
     "metadata": {},
     "output_type": "execute_result"
    }
   ],
   "source": [
    "2. ** 1023"
   ]
  },
  {
   "cell_type": "code",
   "execution_count": 34,
   "id": "f962700b",
   "metadata": {},
   "outputs": [
    {
     "ename": "OverflowError",
     "evalue": "(34, 'Result too large')",
     "output_type": "error",
     "traceback": [
      "\u001b[1;31m---------------------------------------------------------------------------\u001b[0m",
      "\u001b[1;31mOverflowError\u001b[0m                             Traceback (most recent call last)",
      "\u001b[1;32m<ipython-input-34-b5418d78437f>\u001b[0m in \u001b[0;36m<module>\u001b[1;34m\u001b[0m\n\u001b[1;32m----> 1\u001b[1;33m \u001b[1;36m2.\u001b[0m \u001b[1;33m**\u001b[0m \u001b[1;36m1024\u001b[0m\u001b[1;33m\u001b[0m\u001b[1;33m\u001b[0m\u001b[0m\n\u001b[0m",
      "\u001b[1;31mOverflowError\u001b[0m: (34, 'Result too large')"
     ]
    }
   ],
   "source": [
    "2. ** 1024"
   ]
  }
 ],
 "metadata": {
  "kernelspec": {
   "display_name": "Python 3",
   "language": "python",
   "name": "python3"
  },
  "language_info": {
   "codemirror_mode": {
    "name": "ipython",
    "version": 3
   },
   "file_extension": ".py",
   "mimetype": "text/x-python",
   "name": "python",
   "nbconvert_exporter": "python",
   "pygments_lexer": "ipython3",
   "version": "3.8.8"
  }
 },
 "nbformat": 4,
 "nbformat_minor": 5
}
