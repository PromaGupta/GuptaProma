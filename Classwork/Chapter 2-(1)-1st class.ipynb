{
 "cells": [
  {
   "cell_type": "markdown",
   "id": "71f6bbc4",
   "metadata": {},
   "source": [
    "# List"
   ]
  },
  {
   "cell_type": "code",
   "execution_count": 19,
   "id": "6a717802",
   "metadata": {},
   "outputs": [
    {
     "name": "stdout",
     "output_type": "stream",
     "text": [
      "[]\n",
      "[1, 2, 3, 4, 5]\n",
      "[1.0, 2.0, 3.0, 4.0, 5.0]\n",
      "['Many words', 'impoverished meaning']\n",
      "[1, 2.0, 'Mix it up']\n"
     ]
    }
   ],
   "source": [
    "empty_list = []\n",
    "int_list = [1,2,3,4,5]\n",
    "float_list = [1.0, 2.0, 3.0, 4.0, 5.0]\n",
    "string_list = [\"Many words\", \"impoverished meaning\"]\n",
    "mixed_list = [1, 2.0, \"Mix it up\"]\n",
    "\n",
    "print(empty_list)\n",
    "print(int_list)\n",
    "print(float_list)\n",
    "print(string_list)\n",
    "print(mixed_list)"
   ]
  },
  {
   "cell_type": "code",
   "execution_count": 2,
   "id": "16260d66",
   "metadata": {},
   "outputs": [
    {
     "data": {
      "text/plain": [
       "list"
      ]
     },
     "execution_count": 2,
     "metadata": {},
     "output_type": "execute_result"
    }
   ],
   "source": [
    "type(mixed_list)"
   ]
  },
  {
   "cell_type": "code",
   "execution_count": 3,
   "id": "58cd4688",
   "metadata": {},
   "outputs": [
    {
     "data": {
      "text/plain": [
       "(1, int)"
      ]
     },
     "execution_count": 3,
     "metadata": {},
     "output_type": "execute_result"
    }
   ],
   "source": [
    "mixed_list[0], type(mixed_list[0])"
   ]
  },
  {
   "cell_type": "code",
   "execution_count": 4,
   "id": "a05e323f",
   "metadata": {},
   "outputs": [
    {
     "data": {
      "text/plain": [
       "(2.0, float)"
      ]
     },
     "execution_count": 4,
     "metadata": {},
     "output_type": "execute_result"
    }
   ],
   "source": [
    "\n",
    "mixed_list[1], type(mixed_list[1])"
   ]
  },
  {
   "cell_type": "code",
   "execution_count": 5,
   "id": "e966b66f",
   "metadata": {},
   "outputs": [
    {
     "data": {
      "text/plain": [
       "('Mix it up', str)"
      ]
     },
     "execution_count": 5,
     "metadata": {},
     "output_type": "execute_result"
    }
   ],
   "source": [
    "mixed_list[2], type(mixed_list[2])"
   ]
  },
  {
   "cell_type": "markdown",
   "id": "bb43d4eb",
   "metadata": {},
   "source": [
    "# Concatenate list"
   ]
  },
  {
   "cell_type": "code",
   "execution_count": 22,
   "id": "23205ed6",
   "metadata": {},
   "outputs": [
    {
     "data": {
      "text/plain": [
       "[4, 6, 32, 6, 7, 98]"
      ]
     },
     "execution_count": 22,
     "metadata": {},
     "output_type": "execute_result"
    }
   ],
   "source": [
    "list1 = [4,6,32,6,7,98]\n",
    "list2 = [1,6,3,7,89,0]\n",
    "\n",
    "join_lists = list1 + list2\n",
    "\n",
    "list1"
   ]
  },
  {
   "cell_type": "code",
   "execution_count": 7,
   "id": "629a8775",
   "metadata": {},
   "outputs": [
    {
     "data": {
      "text/plain": [
       "[4, 6, 32, 6, 7, 98, 1, 6, 3, 7, 89, 0]"
      ]
     },
     "execution_count": 7,
     "metadata": {},
     "output_type": "execute_result"
    }
   ],
   "source": [
    "join_lists"
   ]
  },
  {
   "cell_type": "code",
   "execution_count": 8,
   "id": "bd27daca",
   "metadata": {},
   "outputs": [
    {
     "data": {
      "text/plain": [
       "'Some stringAnother string to concatenate with str1'"
      ]
     },
     "execution_count": 8,
     "metadata": {},
     "output_type": "execute_result"
    }
   ],
   "source": [
    "str1 = \"Some string\"\n",
    "str2 = \"Another string to concatenate with str1\"\n",
    "\n",
    "join_strings = str1 + str2\n",
    "join_strings"
   ]
  },
  {
   "cell_type": "markdown",
   "id": "3fedf47f",
   "metadata": {},
   "source": [
    "# List Slice"
   ]
  },
  {
   "cell_type": "code",
   "execution_count": 9,
   "id": "0c687925",
   "metadata": {},
   "outputs": [
    {
     "data": {
      "text/plain": [
       "[4, 6, 32, 6, 7, 98, 1, 6, 3, 7, 89, 0]"
      ]
     },
     "execution_count": 9,
     "metadata": {},
     "output_type": "execute_result"
    }
   ],
   "source": [
    "join_lists"
   ]
  },
  {
   "cell_type": "code",
   "execution_count": 10,
   "id": "6f035433",
   "metadata": {},
   "outputs": [
    {
     "data": {
      "text/plain": [
       "[4, 6, 32, 6, 7, 98]"
      ]
     },
     "execution_count": 10,
     "metadata": {},
     "output_type": "execute_result"
    }
   ],
   "source": [
    "\n",
    "join_lists[:6]"
   ]
  },
  {
   "cell_type": "code",
   "execution_count": 11,
   "id": "72b7762c",
   "metadata": {},
   "outputs": [
    {
     "data": {
      "text/plain": [
       "[4, 6, 32, 6, 7]"
      ]
     },
     "execution_count": 11,
     "metadata": {},
     "output_type": "execute_result"
    }
   ],
   "source": [
    "join_lists[0:5]"
   ]
  },
  {
   "cell_type": "code",
   "execution_count": 12,
   "id": "441d9e46",
   "metadata": {},
   "outputs": [
    {
     "data": {
      "text/plain": [
       "'Some s'"
      ]
     },
     "execution_count": 12,
     "metadata": {},
     "output_type": "execute_result"
    }
   ],
   "source": [
    "join_strings[:6]"
   ]
  },
  {
   "cell_type": "code",
   "execution_count": 13,
   "id": "633fe98b",
   "metadata": {},
   "outputs": [
    {
     "data": {
      "text/plain": [
       "'ringAnother string to concatenate with str1'"
      ]
     },
     "execution_count": 13,
     "metadata": {},
     "output_type": "execute_result"
    }
   ],
   "source": [
    "join_strings[7:]"
   ]
  },
  {
   "cell_type": "markdown",
   "id": "ebb023af",
   "metadata": {},
   "source": [
    "If you call lst[-1], it will access the last element in the list."
   ]
  },
  {
   "cell_type": "code",
   "execution_count": 14,
   "id": "f2cca86a",
   "metadata": {},
   "outputs": [
    {
     "data": {
      "text/plain": [
       "(0, '1')"
      ]
     },
     "execution_count": 14,
     "metadata": {},
     "output_type": "execute_result"
    }
   ],
   "source": [
    "join_lists[-1], join_strings[-1]"
   ]
  },
  {
   "cell_type": "code",
   "execution_count": 15,
   "id": "d34c379a",
   "metadata": {},
   "outputs": [
    {
     "data": {
      "text/plain": [
       "([4, 6, 32, 6, 7, 98, 1, 6, 3, 7, 89],\n",
       " 'Some stringAnother string to concatenate with str')"
      ]
     },
     "execution_count": 15,
     "metadata": {},
     "output_type": "execute_result"
    }
   ],
   "source": [
    "join_lists[:-1], join_strings[:-1]"
   ]
  },
  {
   "cell_type": "code",
   "execution_count": 16,
   "id": "41db8b6b",
   "metadata": {},
   "outputs": [
    {
     "data": {
      "text/plain": [
       "([4, 6, 32, 6, 7, 98, 1], 'Some stringAnother string to concatenate with')"
      ]
     },
     "execution_count": 16,
     "metadata": {},
     "output_type": "execute_result"
    }
   ],
   "source": [
    "join_lists[:-5], join_strings[:-5]"
   ]
  }
 ],
 "metadata": {
  "kernelspec": {
   "display_name": "Python 3",
   "language": "python",
   "name": "python3"
  },
  "language_info": {
   "codemirror_mode": {
    "name": "ipython",
    "version": 3
   },
   "file_extension": ".py",
   "mimetype": "text/x-python",
   "name": "python",
   "nbconvert_exporter": "python",
   "pygments_lexer": "ipython3",
   "version": "3.8.8"
  }
 },
 "nbformat": 4,
 "nbformat_minor": 5
}
